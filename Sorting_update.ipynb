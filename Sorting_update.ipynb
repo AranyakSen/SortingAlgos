{
 "cells": [
  {
   "cell_type": "code",
   "execution_count": 67,
   "metadata": {},
   "outputs": [],
   "source": [
    "from random import randint\n",
    "from timeit import repeat"
   ]
  },
  {
   "cell_type": "code",
   "execution_count": 68,
   "metadata": {},
   "outputs": [],
   "source": [
    "def bubble_sort(our_list):\n",
    "    for i in range(len(our_list)):\n",
    "        for j in range(len(our_list) - 1):\n",
    "            if our_list[j] > our_list[j+1]:\n",
    "                our_list[j], our_list[j+1] = our_list[j+1], our_list[j]"
   ]
  },
  {
   "cell_type": "code",
   "execution_count": 69,
   "metadata": {},
   "outputs": [],
   "source": [
    "def opti_bubble_sort(numlist):\n",
    "    swapped=True\n",
    "    while swapped:\n",
    "        swapped=False\n",
    "        for i in range(len(numlist)-1):\n",
    "            if numlist[i]>numlist[i+1]:\n",
    "                numlist[i],numlist[i+1]=numlist[i+1],numlist[i]\n",
    "                swapped=True\n",
    " "
   ]
  },
  {
   "cell_type": "code",
   "execution_count": 70,
   "metadata": {},
   "outputs": [],
   "source": [
    "def selection_sort(numlist):\n",
    "    for i in range(len(numlist)):\n",
    "        min_id=i\n",
    "        for j in range(i+1,len(numlist)):\n",
    "            if numlist[j]<numlist[min_id]:\n",
    "                min_id=j\n",
    "        numlist[i],numlist[min_id]=numlist[min_id],numlist[i]"
   ]
  },
  {
   "cell_type": "code",
   "execution_count": 71,
   "metadata": {},
   "outputs": [],
   "source": [
    "def insertion_sort(numlist):\n",
    "    for i in range(1,len(numlist)):\n",
    "        temp=numlist[i]\n",
    "        j=i-1\n",
    "        while j>=0 and numlist[j]>temp:\n",
    "            numlist[j+1]=numlist[j]\n",
    "            j-=1\n",
    "        numlist[j+1]=temp"
   ]
  },
  {
   "cell_type": "code",
   "execution_count": 72,
   "metadata": {},
   "outputs": [],
   "source": [
    "algorithms = [\"bubble_sort\",\"opti_bubble_sort\", \"selection_sort\", \"insertion_sort\"]"
   ]
  },
  {
   "cell_type": "code",
   "execution_count": 73,
   "metadata": {},
   "outputs": [],
   "source": [
    "def run_sorting_algorithm(algorithm, array):\n",
    "    # Set up the context and prepare the call to the specified\n",
    "    # algorithm using the supplied array. Only import the\n",
    "    # algorithm function if it's not the built-in `sorted()`.\n",
    "    if algorithm != \"sorted\":\n",
    "        setup_code = f\"from __main__ import {algorithm}\" \n",
    "       \n",
    "    stmt = f\"{algorithm}({array})\"\n",
    "\n",
    "    # Execute the code ten different times and return the time\n",
    "    # in seconds that each execution took\n",
    "    times = repeat(setup=setup_code, stmt=stmt, repeat=3, number=10)\n",
    "\n",
    "    # Finally, display the name of the algorithm and the\n",
    "    # minimum time it took to run\n",
    "    print(f\"Algorithm: {algorithm}. Maximum execution time: {max(times)}\")"
   ]
  },
  {
   "cell_type": "code",
   "execution_count": 74,
   "metadata": {},
   "outputs": [
    {
     "name": "stdout",
     "output_type": "stream",
     "text": [
      "Algorithm: bubble_sort. Maximum execution time: 0.34690500000033353\n",
      "Algorithm: opti_bubble_sort. Maximum execution time: 0.32026819999964573\n",
      "Algorithm: selection_sort. Maximum execution time: 0.09515719999990324\n",
      "Algorithm: insertion_sort. Maximum execution time: 0.11691629999995712\n"
     ]
    }
   ],
   "source": [
    "if __name__ == \"__main__\":\n",
    "    # Generate an array of `ARRAY_LENGTH` items consisting\n",
    "    # of random integer values between 0 and 999\n",
    "    array = [randint(0, 1000) for i in range(500)]\n",
    "    \n",
    "    for i in algorithms:\n",
    "        array_test = array\n",
    "        run_sorting_algorithm(i,array)\n",
    "#         stmt = f\"{algorithm}({array})\"\n",
    "#         exec(stmt)"
   ]
  },
  {
   "cell_type": "code",
   "execution_count": null,
   "metadata": {},
   "outputs": [],
   "source": []
  },
  {
   "cell_type": "code",
   "execution_count": null,
   "metadata": {},
   "outputs": [],
   "source": []
  }
 ],
 "metadata": {
  "kernelspec": {
   "display_name": "Python 3.8.0 64-bit",
   "language": "python",
   "name": "python38064bitfffb42fdff694d4e8af71a46bc3b5b16"
  },
  "language_info": {
   "codemirror_mode": {
    "name": "ipython",
    "version": 3
   },
   "file_extension": ".py",
   "mimetype": "text/x-python",
   "name": "python",
   "nbconvert_exporter": "python",
   "pygments_lexer": "ipython3",
   "version": "3.8.0"
  }
 },
 "nbformat": 4,
 "nbformat_minor": 4
}
